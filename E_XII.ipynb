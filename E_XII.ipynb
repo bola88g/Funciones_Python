{
 "cells": [
  {
   "cell_type": "markdown",
   "metadata": {},
   "source": [
    "##### Write a Python function that checks whether a passed string is palindrome or not"
   ]
  },
  {
   "cell_type": "code",
   "execution_count": 7,
   "metadata": {},
   "outputs": [
    {
     "name": "stdout",
     "output_type": "stream",
     "text": [
      "True\n",
      "True\n",
      "True\n",
      "True\n"
     ]
    }
   ],
   "source": [
    "\n",
    "def esPalindromo(valor):\n",
    "    ipos = 0 # con ésta variable se barren los valores de izquierda a derecha\n",
    "    dpos = len(valor) - 1 # con ésta variable se barren los valores de derecha a izquierda\n",
    "    \n",
    "    while dpos >= ipos: # se comparan los valores simétricos y se detiene el ciclo cuando ésos valores\n",
    "                        # son diferentes o se agotaron las posiciones\n",
    "        if not valor[ipos] == valor[dpos]:\n",
    "            return False\n",
    "        ipos += 1\n",
    "        dpos -= 1\n",
    "    return True\n",
    "\t\n",
    "print(esPalindromo('acasohubobuhosaca'))\n",
    "print(esPalindromo('severlasalreves'))\n",
    "print(esPalindromo('anitalavalatina'))\n",
    "print(esPalindromo('anitalagordalagartonanotragaladrogalatina'))\n"
   ]
  },
  {
   "cell_type": "code",
   "execution_count": null,
   "metadata": {},
   "outputs": [],
   "source": []
  },
  {
   "cell_type": "code",
   "execution_count": null,
   "metadata": {},
   "outputs": [],
   "source": []
  }
 ],
 "metadata": {
  "kernelspec": {
   "display_name": "Python 3",
   "language": "python",
   "name": "python3"
  },
  "language_info": {
   "codemirror_mode": {
    "name": "ipython",
    "version": 3
   },
   "file_extension": ".py",
   "mimetype": "text/x-python",
   "name": "python",
   "nbconvert_exporter": "python",
   "pygments_lexer": "ipython3",
   "version": "3.7.3"
  }
 },
 "nbformat": 4,
 "nbformat_minor": 4
}
